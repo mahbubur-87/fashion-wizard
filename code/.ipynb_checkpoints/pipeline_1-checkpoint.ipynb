{
 "cells": [
  {
   "cell_type": "code",
   "execution_count": 5,
   "id": "a768b4a9-fbc6-42ee-b33e-b1ba78d4499e",
   "metadata": {},
   "outputs": [],
   "source": [
    "import cv2\n",
    "import numpy as np\n",
    "import pandas as pd\n",
    "import os\n",
    "import json\n",
    "import earthpy as et"
   ]
  },
  {
   "cell_type": "code",
   "execution_count": 6,
   "id": "5b76951f-0d91-4ad7-820f-9360484ff3cf",
   "metadata": {},
   "outputs": [],
   "source": [
    "root_path = os.path.join(\"mahbub-dev\", \"beuth_hochschule_for_technik_berlin\", \"data_science\", \"learning_from_images\", \"project\") #, \"code\"\n",
    "os.chdir(os.path.join(et.io.HOME, root_path))"
   ]
  },
  {
   "cell_type": "code",
   "execution_count": null,
   "id": "8ceaaad9-bc18-4fae-99f1-b9e868143466",
   "metadata": {},
   "outputs": [],
   "source": [
    "deepfashion_segmentation_train_path = os.path.join(\"deep_fashion\", \"in_shop_clothes_retrieval_benchmark\", \"anno\", \"segmentation\", \"DeepFashion_segmentation_train.json\")"
   ]
  },
  {
   "cell_type": "code",
   "execution_count": 7,
   "id": "afdad5c0-f4d0-45a9-9c4a-9a943893a37e",
   "metadata": {},
   "outputs": [
    {
     "name": "stdout",
     "output_type": "stream",
     "text": [
      "Hw\n"
     ]
    }
   ],
   "source": [
    "with open(deepfashion_segmentation_train_path, \"r\") as fp:\n",
    "    data = json.load(fp)\n",
    "    for i in data['info']:\n",
    "        print(i)"
   ]
  }
 ],
 "metadata": {
  "kernelspec": {
   "display_name": "Python 3 (ipykernel)",
   "language": "python",
   "name": "python3"
  },
  "language_info": {
   "codemirror_mode": {
    "name": "ipython",
    "version": 3
   },
   "file_extension": ".py",
   "mimetype": "text/x-python",
   "name": "python",
   "nbconvert_exporter": "python",
   "pygments_lexer": "ipython3",
   "version": "3.8.12"
  }
 },
 "nbformat": 4,
 "nbformat_minor": 5
}
